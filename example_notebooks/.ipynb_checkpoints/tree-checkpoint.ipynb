{
 "cells": [
  {
   "cell_type": "code",
   "execution_count": 1,
   "id": "33b96292",
   "metadata": {},
   "outputs": [
    {
     "name": "stdout",
     "output_type": "stream",
     "text": [
      "\u001b[33mWARNING: Ignoring invalid distribution -global-alignment (/usr/local/lib/python3.9/site-packages)\u001b[0m\n",
      "\u001b[33mWARNING: Ignoring invalid distribution -flash (/usr/local/lib/python3.9/site-packages)\u001b[0m\n",
      "Found existing installation: python-circos 0.2.0\n",
      "Uninstalling python-circos-0.2.0:\n",
      "  Successfully uninstalled python-circos-0.2.0\n",
      "/Users/hideto/Dropbox (Yachie Lab)/HIDETO_MORI.LAB/Experiments/Project/pyCircos/pyCircos\n",
      "running install\n",
      "/usr/local/lib/python3.9/site-packages/setuptools/command/install.py:34: SetuptoolsDeprecationWarning: setup.py install is deprecated. Use build and pip and other standards-based tools.\n",
      "  warnings.warn(\n",
      "/usr/local/lib/python3.9/site-packages/setuptools/command/easy_install.py:156: EasyInstallDeprecationWarning: easy_install command is deprecated. Use build and pip and other standards-based tools.\n",
      "  warnings.warn(\n",
      "running bdist_egg\n",
      "running egg_info\n",
      "writing python_circos.egg-info/PKG-INFO\n",
      "writing dependency_links to python_circos.egg-info/dependency_links.txt\n",
      "writing requirements to python_circos.egg-info/requires.txt\n",
      "writing top-level names to python_circos.egg-info/top_level.txt\n",
      "reading manifest file 'python_circos.egg-info/SOURCES.txt'\n",
      "adding license file 'LICENSE'\n",
      "writing manifest file 'python_circos.egg-info/SOURCES.txt'\n",
      "installing library code to build/bdist.macosx-12-x86_64/egg\n",
      "running install_lib\n",
      "running build_py\n",
      "copying pycircos/tree.py -> build/lib/pycircos\n",
      "creating build/bdist.macosx-12-x86_64/egg\n",
      "copying build/lib/.DS_Store -> build/bdist.macosx-12-x86_64/egg\n",
      "creating build/bdist.macosx-12-x86_64/egg/pycircos\n",
      "copying build/lib/pycircos/tree.py -> build/bdist.macosx-12-x86_64/egg/pycircos\n",
      "copying build/lib/pycircos/__init__.py -> build/bdist.macosx-12-x86_64/egg/pycircos\n",
      "copying build/lib/pycircos/pycircos.py -> build/bdist.macosx-12-x86_64/egg/pycircos\n",
      "byte-compiling build/bdist.macosx-12-x86_64/egg/pycircos/tree.py to tree.cpython-39.pyc\n",
      "byte-compiling build/bdist.macosx-12-x86_64/egg/pycircos/__init__.py to __init__.cpython-39.pyc\n",
      "byte-compiling build/bdist.macosx-12-x86_64/egg/pycircos/pycircos.py to pycircos.cpython-39.pyc\n",
      "creating build/bdist.macosx-12-x86_64/egg/EGG-INFO\n",
      "copying python_circos.egg-info/PKG-INFO -> build/bdist.macosx-12-x86_64/egg/EGG-INFO\n",
      "copying python_circos.egg-info/SOURCES.txt -> build/bdist.macosx-12-x86_64/egg/EGG-INFO\n",
      "copying python_circos.egg-info/dependency_links.txt -> build/bdist.macosx-12-x86_64/egg/EGG-INFO\n",
      "copying python_circos.egg-info/requires.txt -> build/bdist.macosx-12-x86_64/egg/EGG-INFO\n",
      "copying python_circos.egg-info/top_level.txt -> build/bdist.macosx-12-x86_64/egg/EGG-INFO\n",
      "zip_safe flag not set; analyzing archive contents...\n",
      "creating 'dist/python_circos-0.2.0-py3.9.egg' and adding 'build/bdist.macosx-12-x86_64/egg' to it\n",
      "removing 'build/bdist.macosx-12-x86_64/egg' (and everything under it)\n",
      "Processing python_circos-0.2.0-py3.9.egg\n",
      "Copying python_circos-0.2.0-py3.9.egg to /usr/local/lib/python3.9/site-packages\n",
      "Adding python-circos 0.2.0 to easy-install.pth file\n",
      "\n",
      "Installed /usr/local/lib/python3.9/site-packages/python_circos-0.2.0-py3.9.egg\n",
      "Processing dependencies for python-circos==0.2.0\n",
      "Searching for biopython==1.79\n",
      "Best match: biopython 1.79\n",
      "Adding biopython 1.79 to easy-install.pth file\n",
      "\n",
      "Using /usr/local/lib/python3.9/site-packages\n",
      "Searching for matplotlib==3.4.3\n",
      "Best match: matplotlib 3.4.3\n",
      "Adding matplotlib 3.4.3 to easy-install.pth file\n",
      "\n",
      "Using /usr/local/lib/python3.9/site-packages\n",
      "Searching for numpy==1.20.3\n",
      "Best match: numpy 1.20.3\n",
      "Adding numpy 1.20.3 to easy-install.pth file\n",
      "Installing f2py script to /usr/local/bin\n",
      "Installing f2py3 script to /usr/local/bin\n",
      "Installing f2py3.9 script to /usr/local/bin\n",
      "\n",
      "Using /usr/local/lib/python3.9/site-packages\n",
      "Searching for pyparsing==2.4.7\n",
      "Best match: pyparsing 2.4.7\n",
      "Adding pyparsing 2.4.7 to easy-install.pth file\n",
      "\n",
      "Using /usr/local/lib/python3.9/site-packages\n",
      "Searching for Pillow==8.3.2\n",
      "Best match: Pillow 8.3.2\n",
      "Adding Pillow 8.3.2 to easy-install.pth file\n",
      "\n",
      "Using /usr/local/lib/python3.9/site-packages\n",
      "Searching for cycler==0.10.0\n",
      "Best match: cycler 0.10.0\n",
      "Adding cycler 0.10.0 to easy-install.pth file\n",
      "\n",
      "Using /usr/local/lib/python3.9/site-packages\n",
      "Searching for python-dateutil==2.8.2\n",
      "Best match: python-dateutil 2.8.2\n",
      "Adding python-dateutil 2.8.2 to easy-install.pth file\n",
      "\n",
      "Using /usr/local/lib/python3.9/site-packages\n",
      "Searching for kiwisolver==1.3.2\n",
      "Best match: kiwisolver 1.3.2\n",
      "Adding kiwisolver 1.3.2 to easy-install.pth file\n",
      "\n",
      "Using /usr/local/lib/python3.9/site-packages\n",
      "Searching for six==1.16.0\n",
      "Best match: six 1.16.0\n",
      "Adding six 1.16.0 to easy-install.pth file\n",
      "\n",
      "Using /usr/local/lib/python3.9/site-packages\n",
      "Finished processing dependencies for python-circos==0.2.0\n"
     ]
    }
   ],
   "source": [
    "!pip3 uninstall -y python-circos\n",
    "%cd /Users/hideto/dropbox/HIDETO_MORI.LAB/Experiments/Project/pyCircos/pyCircos\n",
    "!python3 setup.py install"
   ]
  },
  {
   "cell_type": "code",
   "execution_count": 2,
   "id": "ed7b6e5e",
   "metadata": {},
   "outputs": [],
   "source": [
    "import pycircos\n",
    "import matplotlib.pyplot as plt\n",
    "Tarc    = pycircos.Tarc\n",
    "Tcircle = pycircos.Tcircle"
   ]
  },
  {
   "cell_type": "code",
   "execution_count": 3,
   "id": "1f3f046f",
   "metadata": {},
   "outputs": [
    {
     "name": "stdout",
     "output_type": "stream",
     "text": [
      "/Users/hideto/Dropbox (Yachie Lab)/HIDETO_MORI.LAB/Experiments/Project/pyCircos/pyCircos\n"
     ]
    },
    {
     "data": {
      "text/plain": [
       "<Figure size 576x576 with 0 Axes>"
      ]
     },
     "metadata": {},
     "output_type": "display_data"
    }
   ],
   "source": [
    "import os\n",
    "print(os.getcwd())\n",
    "tarc    = Tarc(tree=\"./tutorial/sample_data/kegg/kegg.nwk\", format=\"newick\", interspace=1)\n",
    "tcircle = Tcircle(figsize=(12,12)) "
   ]
  },
  {
   "cell_type": "code",
   "execution_count": 4,
   "id": "1efbf6e4",
   "metadata": {},
   "outputs": [],
   "source": [
    "#Set colors for terminal clades\n",
    "phyla_names  = [\"Actinobacteria\",\"Aquificae\",\"Bacteroidetes\", \"Chlamydiae\",\"Chlorobi\",\"Chloroflexi\",\"Crenarchaeota\", \n",
    "                \"Cyanobacteria\",\"Euryarchaeota\",\"Firmicutes\", \"Spirochaetes\", \"Proteobacteria\", \"Tenericutes\",\"Thermi\",\"Thermotogae\",\"Other\"]\n",
    "phyla_colors = [\"#9ACD32\", \"#EE6A50\", \"#87CEFA\", \"#FFC125\", \"#D15FEE\", \"#8DEEEE\", \"#800000\",\"#006400\", \"#800080\", \n",
    "                \"#808080\", \"#B0171F\", \"#B0171F\", \"#191970\", \"#7B68EE\", \"#00CD00\", \"#000000\"]\n",
    "pylum_color_dict = dict(zip(phyla_names, phyla_colors))\n",
    "\n",
    "cladevisual_dict  = {}\n",
    "phylum_clade_dict = {} \n",
    "with open(\"./tutorial/sample_data/kegg/tippoint_attr.csv\") as f:\n",
    "    f.readline() \n",
    "    for line in f:\n",
    "        line = line.rstrip().split(\",\")\n",
    "        if line[1] in pylum_color_dict:\n",
    "            cladevisual_dict[line[0]] = {\"color\":pylum_color_dict[line[1]], \"size\":12, \"linewidth\":0.1, \"edgecolor\":\"#303030\"}\n",
    "        else:\n",
    "            cladevisual_dict[line[0]] = {\"color\":pylum_color_dict[\"Other\"], \"size\":12, \"linewidth\":0.1, \"edgecolor\":\"#303030\"}"
   ]
  },
  {
   "cell_type": "code",
   "execution_count": 5,
   "id": "ab8ab50f",
   "metadata": {},
   "outputs": [],
   "source": [
    "tcircle.add_tarc(tarc)\n",
    "tcircle.set_tarcs()\n",
    "tcircle.plot_tree(tarc.arc_id, rlim=(0,550), cladevisual_dict=cladevisual_dict, linewidth=0.4, linecolor=\"#606060\")"
   ]
  },
  {
   "cell_type": "code",
   "execution_count": 6,
   "id": "40dbbe37",
   "metadata": {},
   "outputs": [],
   "source": [
    "tcircle.figure.savefig(\"tree-1.pdf\")"
   ]
  },
  {
   "cell_type": "code",
   "execution_count": 7,
   "id": "5b2296b7",
   "metadata": {},
   "outputs": [
    {
     "data": {
      "text/plain": [
       "'/Users/hideto/Dropbox (Yachie Lab)/HIDETO_MORI.LAB/Experiments/Project/pyCircos/pyCircos'"
      ]
     },
     "execution_count": 7,
     "metadata": {},
     "output_type": "execute_result"
    }
   ],
   "source": [
    "os.getcwd()"
   ]
  },
  {
   "cell_type": "code",
   "execution_count": 8,
   "id": "ac03152f",
   "metadata": {},
   "outputs": [],
   "source": [
    "#Set highlights for specific clades\n",
    "highlight_dict={\"Staphylococcus\" : {\"color\":\"#808080\", \"alpha\":0.3, \"fontsize\":5, \"label\":\"Staphylococcus\"}, \n",
    "                \"Burkholderia\"   : {\"color\":\"#B0171F\", \"alpha\":0.3, \"fontsize\":5, \"label\":\"Burkholderia\"},\n",
    "                \"Mycoplasma\"     : {\"color\":\"#191970\", \"alpha\":0.3, \"fontsize\":5, \"label\":\"Mycoplasma\"}, \n",
    "                \"Synechococcus\"  : {\"color\":\"#9ACD32\", \"alpha\":0.3, \"fontsize\":5, \"label\":\"Synechococcus\"}}\n",
    "tcircle.plot_highlight(tarc.arc_id, highlight_dict)"
   ]
  },
  {
   "cell_type": "code",
   "execution_count": 9,
   "id": "9114b141",
   "metadata": {},
   "outputs": [],
   "source": [
    "tcircle.figure.savefig(\"tree-2.pdf\")"
   ]
  },
  {
   "cell_type": "code",
   "execution_count": 10,
   "id": "fa7f9240",
   "metadata": {},
   "outputs": [],
   "source": [
    "#Draw the first rings representing the genetic profiles of ATPases.\n",
    "from matplotlib.colors import LinearSegmentedColormap\n",
    "VA_ATP_rings = [{} for _ in range(8)]\n",
    "F_ATP_rings  = [{} for _ in range(8)]\n",
    "with open(\"./tutorial/sample_data/kegg/firstring_attr.csv\") as f:\n",
    "    f.readline() \n",
    "    for line in f:\n",
    "        line = line.rstrip().split(\",\") \n",
    "        if int(line[1]) <= 8:\n",
    "            VA_ATP_rings[int(line[1])-1][line[0]] = 1 \n",
    "        else:\n",
    "            F_ATP_rings[int(line[1])-9][line[0]]  = 1"
   ]
  },
  {
   "cell_type": "code",
   "execution_count": 11,
   "id": "68377fab",
   "metadata": {},
   "outputs": [],
   "source": [
    "cmap = LinearSegmentedColormap.from_list(\"tmp1\", [\"#FFFFFF\",\"#dfac03\"], N=2)\n",
    "for i, VA_ATP_ring in enumerate(VA_ATP_rings):\n",
    "    values = []\n",
    "    for cladename in tarc.terminal_dict:\n",
    "        VA_ATP_ring.setdefault(cladename, 0)\n",
    "        values.append(VA_ATP_ring[cladename])\n",
    "    tcircle.heatmap(tarc.arc_id, data=values, raxis_range=(550+5*i, 550+5*(i+1)), cmap=cmap)"
   ]
  },
  {
   "cell_type": "code",
   "execution_count": 12,
   "id": "ba08a62e-cca4-421c-8c43-e81516cef499",
   "metadata": {},
   "outputs": [],
   "source": [
    "cmap = LinearSegmentedColormap.from_list(\"tmp2\", [\"#FFFFFF\",\"#339933\"], N=2)\n",
    "for i, F_ATP_ring in enumerate(F_ATP_rings):\n",
    "    values = []\n",
    "    for cladename in tarc.terminal_dict:\n",
    "        F_ATP_ring.setdefault(cladename, 0)\n",
    "        values.append(F_ATP_ring[cladename])\n",
    "    tcircle.heatmap(tarc.arc_id, data=values, raxis_range=(590+5*i, 590+5*(i+1)), cmap=cmap)"
   ]
  },
  {
   "cell_type": "code",
   "execution_count": 13,
   "id": "024cdb01",
   "metadata": {},
   "outputs": [],
   "source": [
    "tcircle.figure.savefig(\"tree-3.pdf\")"
   ]
  },
  {
   "cell_type": "code",
   "execution_count": 14,
   "id": "35e2f884-6d24-4a3d-9c2d-c71473db9fbd",
   "metadata": {},
   "outputs": [],
   "source": [
    "#Draw the second rings representing the profiles of abundances of fatty acid metabolism.\n",
    "secondring_dict = {\"FA synth init\":{}, \"FA synth elong\":{}, \"acyl-CoA synth\":{}, \"beta-Oxidation\":{}, \"Ketone biosynth\":{}}\n",
    "with open(\"./tutorial/sample_data/kegg/secondring_attr.csv\") as f:\n",
    "    f.readline()\n",
    "    for line in f:\n",
    "        line = line.rstrip().split(\",\") \n",
    "        secondring_dict[line[2]][line[0]] = float(line[1])"
   ]
  },
  {
   "cell_type": "code",
   "execution_count": 15,
   "id": "9d917a8a-cf5f-4b42-a87a-a99301e8869f",
   "metadata": {},
   "outputs": [],
   "source": [
    "cmap1 = LinearSegmentedColormap.from_list(\"atp1\", [\"#FFFFFF\",\"#793a07\"], N=100)\n",
    "cmap2 = LinearSegmentedColormap.from_list(\"atp2\", [\"#FFFFFF\",\"#9f1f9f\"], N=100)\n",
    "cmap3 = LinearSegmentedColormap.from_list(\"atp3\", [\"#FFFFFF\",\"#0000be\"], N=100)\n",
    "cmap4 = LinearSegmentedColormap.from_list(\"atp4\", [\"#FFFFFF\",\"#005500\"], N=100)\n",
    "cmap5 = LinearSegmentedColormap.from_list(\"atp5\", [\"#FFFFFF\",\"#b22222\"], N=100)\n",
    "cmaps = [cmap1, cmap2, cmap3, cmap4, cmap5]\n",
    "for i, key in enumerate((\"Ketone biosynth\", \"beta-Oxidation\", \"acyl-CoA synth\", \"FA synth elong\", \"FA synth init\")):\n",
    "    values = []\n",
    "    for cladename in tarc.terminal_dict:\n",
    "        secondring_dict[key].setdefault(cladename, 0)\n",
    "        values.append(secondring_dict[key][cladename])\n",
    "    tcircle.heatmap(tarc.arc_id, data=values, raxis_range=(635+40*i, 635+40*(i+1)), cmap=cmaps[i])"
   ]
  },
  {
   "cell_type": "code",
   "execution_count": 16,
   "id": "4ba9371b-77e0-4dc8-b88c-28b0e9ccdd73",
   "metadata": {},
   "outputs": [],
   "source": [
    "tcircle.figure.savefig(\"tree-4.pdf\")"
   ]
  },
  {
   "cell_type": "code",
   "execution_count": 17,
   "id": "7997ee6f-1ac3-4276-987e-bcaeaca59360",
   "metadata": {},
   "outputs": [],
   "source": [
    "#Draw the genome lengths\n",
    "clade_genomelength_dict = {}\n",
    "with open(\"./tutorial/sample_data/kegg/barplot_attr.csv\") as f:\n",
    "    f.readline() \n",
    "    for line in f:\n",
    "        line = line.rstrip().split(\",\") \n",
    "        clade_genomelength_dict[line[0]] = float(line[1]) \n",
    "\n",
    "values     = [] \n",
    "facecolors = []\n",
    "for cladename in tarc.terminal_dict:\n",
    "    clade_genomelength_dict.setdefault(cladename, 0) \n",
    "    values.append(clade_genomelength_dict[cladename]) \n",
    "    facecolors.append(cladevisual_dict[cladename][\"color\"])\n",
    "tcircle.barplot(tarc.arc_id, data=values, raxis_range=(840,990), facecolor=facecolors)"
   ]
  },
  {
   "cell_type": "code",
   "execution_count": 18,
   "id": "a21080b0-d413-4bab-9dad-43ed298b3563",
   "metadata": {},
   "outputs": [],
   "source": [
    "tcircle.figure.savefig(\"tree-5.pdf\")"
   ]
  }
 ],
 "metadata": {
  "kernelspec": {
   "display_name": "Python 3 (ipykernel)",
   "language": "python",
   "name": "python3"
  },
  "language_info": {
   "codemirror_mode": {
    "name": "ipython",
    "version": 3
   },
   "file_extension": ".py",
   "mimetype": "text/x-python",
   "name": "python",
   "nbconvert_exporter": "python",
   "pygments_lexer": "ipython3",
   "version": "3.9.9"
  }
 },
 "nbformat": 4,
 "nbformat_minor": 5
}
